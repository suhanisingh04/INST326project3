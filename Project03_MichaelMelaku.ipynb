{
 "cells": [
  {
   "cell_type": "markdown",
   "id": "cddf5de3-a9f3-4471-bbaf-aca41a70ce89",
   "metadata": {},
   "source": [
    "### INST326 OOP Project 03"
   ]
  },
  {
   "cell_type": "markdown",
   "id": "2bb7f115-9eba-4f29-918e-b016e6a7edc8",
   "metadata": {},
   "source": [
    "Rename this notebook, replacing \"_Assignment\" with \"_YourName\"<br>\n",
    "Name: Michael Melaku Class: INST326 Assignment: Project 03, Week 13 Date: 11/22/24"
   ]
  },
  {
   "cell_type": "markdown",
   "id": "8ee05bdb-db2d-41c2-9f23-3af75d058612",
   "metadata": {},
   "source": [
    "### The Project\n",
    "Everyone will do the same project this time. This is a group project, so you must work in your assigned groups. Include the link to your group's GitHub repository (one link per group). Use comments in your code to document your solution. If you need to write comments to the grader, add a markdown cell immediately above your code solution and add your comments there. Be sure to read and follow all the requirements and the Notebook Instructions at the bottom of this notebook. Your grade may depend on it!"
   ]
  },
  {
   "cell_type": "markdown",
   "id": "a1c98e85-2c64-4a03-8309-d91035cca6d2",
   "metadata": {},
   "source": [
    "#### 1. A Scheduling Program\r",
    ">  My wife is responsible for scheduling caregivers for her 93 year-old mother. Currently she writes out the schedule on a monthly calendar and photocopies it for everyone. I want all of you to help me write a program to help her with scheduling. While this is a specific application, this program will be broadly useful and adaptable to any scheduling needs for small businesses, clubs, and more."
   ]
  },
  {
   "cell_type": "markdown",
   "id": "28b28d8a-dbb3-4f15-bbe0-e14504b84876",
   "metadata": {},
   "source": [
    "#### Requirements\n",
    ">  Care is required 12 hours per day, 7 days a week. There are two shifts each day: 7:00 AM - 1:00 PM, and 1:00 PM to 7:00 PM. There are a total of 8 caregivers. Some are family members and some are paid. Each caregiver has their own availability for shifts that is generally the same from month to month, but there are exceptions for work, vacations, and other responsibilities. Your program should do the following:\n",
    "> 1. Manage caregivers and their schedules. Attributes include: name, phone, email, pay rate, and hours.\n",
    "> 2. Each caregiver should have their own availability schedule where they can indicate their availability for each shift. Availability categories are 'preferred', 'available' (default), and 'unavailable'.\n",
    "> 3. Create a care schedule that covers AM and PM shifts and displays caregiver names on a calendar (see example). The schedule should accomodate caregivers' individual schedules and availability preferences. The python calendar module provides options for creating HTML calendars. Sample code for the HTML calendar is in the project folder.\n",
    "> 4. Paid caregivers are paid weekly at $20/hr. Your program should calculate weekly pay based on assigned hours. Provide a separate pay report that lists weekly (gross: hours x rate) amounts to each caregiver, along with weekly and monthly totals. The report can be a text document, or presented in GUI or HTML format. "
   ]
  },
  {
   "cell_type": "markdown",
   "id": "6708f6cf-aac7-430e-947d-6f9c8dd161f6",
   "metadata": {
    "jp-MarkdownHeadingCollapsed": true
   },
   "source": [
    "#### Group Requirements\n",
    ">  1. Your submitted project should follow OOP principles like abstraction, encapsulation, inheritance, and polymorphism as appropriate. Your program should use classes. \n",
    ">  2. Select a group leader who will host the group's project repository on their GitHub.\n",
    ">  3. Create the group repository and add a main program document. See example.\n",
    ">  4. Create branches off the main program for each group member, and assign part of the program to each member.\n",
    ">  5. Each member should work on their branch.\n",
    ">  6. When each member is finished, merge the branches back into the main program. You may use 'merge' or 'pull requests', your choice.\n",
    ">  7. iterate and debug as necessary."
   ]
  },
  {
   "cell_type": "markdown",
   "id": "71b8f18e-607a-4c94-81a3-ebbc488ba8c6",
   "metadata": {},
   "source": [
    "#### Working with HTML\n",
    "> Since this is a course on python, not HTML, you are not expected to know HTML. Therefore, you may copy applicable portions of the sample code or use AI to write the HTML portions of your application. Ypu should write the main python code yourself.\n"
   ]
  },
  {
   "cell_type": "markdown",
   "id": "fc336368-4292-42af-aa60-06b27ff6b303",
   "metadata": {
    "jp-MarkdownHeadingCollapsed": true
   },
   "source": [
    "#### What you need to turn in\n",
    ">  This is a group project. There will be one submission per group. Your submission will be graded as a group.\n",
    ">  1. Include your group number and the names of all group members in the signature block at the top of this notebook.\n",
    ">  2. In the cell below, paste the link to your project repository. One link per group. The grader will review the activity and history provided by GitHub. To add a hyperlink to a Jupyter markdown cell, follow the instructions in the cell below.\n",
    ">  3. Below the GitHub Repository Link cell is a code cell. Copy and paste your final program code into this cell."
   ]
  },
  {
   "cell_type": "markdown",
   "id": "3ece03e6-a41f-484d-8417-d8c4e156b2c0",
   "metadata": {},
   "source": [
    "#### GitHub Repository Link\n",
    "> Example: [INST326_Fall2024/Projects/Project03](https://github.com/sdempwolf/INST326_Fall_2024/tree/main/Projects/Project03)\n",
    ">\n",
    "> Edit the link code below with your information, then run this cell. Test the link! It should take you to your GitHub project repository.\n",
    "> [external link text](http://url_here)"
   ]
  },
  {
   "cell_type": "code",
   "execution_count": 13,
   "id": "cb35b908-6683-4144-816c-051715925504",
   "metadata": {},
   "outputs": [
    {
     "name": "stdout",
     "output_type": "stream",
     "text": [
      "{'Monday': {'AM': 'Jane', 'PM': None}, 'Tuesday': {'AM': None, 'PM': 'Jackson'}, 'Wednesday': {'AM': None, 'PM': None}, 'Thursday': {'AM': None, 'PM': 'Jane'}, 'Friday': {'AM': 'Jackson', 'PM': None}, 'Saturday': {'AM': None, 'PM': None}, 'Sunday': {'AM': None, 'PM': None}}\n",
      "Weekly Pay Report\n",
      "------------------------------\n",
      "Alice: $120.00\n",
      "Bob: $120.00\n",
      "------------------------------\n",
      "Total Weekly Pay: $240.00\n",
      "Total Monthly Pay: $960.00\n",
      "\n",
      "<table border=\"0\" cellpadding=\"0\" cellspacing=\"0\" class=\"month\">\n",
      "<tr><th colspan=\"7\" class=\"month\">November 2024</th></tr>\n",
      "<tr><th class=\"mon\">Mon</th><th class=\"tue\">Tue</th><th class=\"wed\">Wed</th><th class=\"thu\">Thu</th><th class=\"fri\">Fri</th><th class=\"sat\">Sat</th><th class=\"sun\">Sun</th></tr>\n",
      "<tr><td class=\"noday\">&nbsp;</td><td class=\"noday\">&nbsp;</td><td class=\"noday\">&nbsp;</td><td class=\"noday\">&nbsp;</td><td class=\"fri\">1</td><td class=\"sat\">2</td><td class=\"sun\">3</td></tr>\n",
      "<tr><td class=\"mon\">4</td><td class=\"tue\">5</td><td class=\"wed\">6</td><td class=\"thu\">7</td><td class=\"fri\">8</td><td class=\"sat\">9</td><td class=\"sun\">10</td></tr>\n",
      "<tr><td class=\"mon\">11</td><td class=\"tue\">12</td><td class=\"wed\">13</td><td class=\"thu\">14</td><td class=\"fri\">15</td><td class=\"sat\">16</td><td class=\"sun\">17</td></tr>\n",
      "<tr><td class=\"mon\">18</td><td class=\"tue\">19</td><td class=\"wed\">20</td><td class=\"thu\">21</td><td class=\"fri\">22</td><td class=\"sat\">23</td><td class=\"sun\">24</td></tr>\n",
      "<tr><td class=\"mon\">25</td><td class=\"tue\">26</td><td class=\"wed\">27</td><td class=\"thu\">28</td><td class=\"fri\">29</td><td class=\"sat\">30</td><td class=\"noday\">&nbsp;</td></tr>\n",
      "</table>\n",
      "<h3>Care Schedule</h3><table border='1'><tr><th>Day</th><th>AM Shift</th><th>PM Shift</th></tr><tr><td>Monday</td><td>Jane</td><td>None</td></tr><tr><td>Tuesday</td><td>None</td><td>Jackson</td></tr><tr><td>Wednesday</td><td>None</td><td>None</td></tr><tr><td>Thursday</td><td>None</td><td>Jane</td></tr><tr><td>Friday</td><td>Jackson</td><td>None</td></tr><tr><td>Saturday</td><td>None</td><td>None</td></tr><tr><td>Sunday</td><td>None</td><td>None</td></tr></table>\n"
     ]
    }
   ],
   "source": [
    "# Solution - enter your code solution below\n",
    "import calendar\n",
    "from datetime import datetime\n",
    "\n",
    "class Caregiver:\n",
    "    def __init__(self, name, phone, email, pay_rate=20):\n",
    "        self.name = name\n",
    "        self.phone = phone\n",
    "        self.email = email\n",
    "        self.pay_rate = pay_rate\n",
    "        self.hours = 0  # Total hours assigned in the week\n",
    "        self.availability = {}  # Dictionary to hold availability for each day and shift\n",
    "\n",
    "    def set_availability(self, day, shift, status='available'):\n",
    "        \"\"\"\n",
    "        Sets availability for a given day and shift.\n",
    "        :param day: Day of the week (e.g., 'Monday')\n",
    "        :param shift: Shift timing (e.g., 'AM' or 'PM')\n",
    "        :param status: Availability status ('preferred', 'available', 'unavailable')\n",
    "        \"\"\"\n",
    "        if day not in self.availability:\n",
    "            self.availability[day] = {}\n",
    "        self.availability[day][shift] = status\n",
    "\n",
    "    def get_availability(self):\n",
    "        \"\"\"\n",
    "        Returns the caregiver's availability schedule.\n",
    "        \"\"\"\n",
    "        return self.availability\n",
    "\n",
    "    def calculate_weekly_pay(self):\n",
    "        \"\"\"\n",
    "        Calculates the weekly pay for the caregiver.\n",
    "        \"\"\"\n",
    "        return self.hours * self.pay_rate\n",
    "\n",
    "    def __str__(self):\n",
    "        return f\"{self.name} ({self.phone}, {self.email})\"\n",
    "\n",
    "\n",
    "class CareScheduleManager:\n",
    "    def __init__(self):\n",
    "        self.caregivers = []\n",
    "\n",
    "    def add_caregiver(self, caregiver):\n",
    "        self.caregivers.append(caregiver)\n",
    "\n",
    "    def generate_schedule(self):\n",
    "        \"\"\"\n",
    "        Generates a care schedule for AM and PM shifts for one week.\n",
    "        Priority is given to 'preferred' caregivers, then 'available'.\n",
    "        \"\"\"\n",
    "        days = ['Monday', 'Tuesday', 'Wednesday', 'Thursday', 'Friday', 'Saturday', 'Sunday']\n",
    "        shifts = ['AM', 'PM']\n",
    "        schedule = {day: {shift: None for shift in shifts} for day in days}\n",
    "\n",
    "        for day in days:\n",
    "            for shift in shifts:\n",
    "                for caregiver in self.caregivers:\n",
    "                    availability = caregiver.get_availability().get(day, {}).get(shift, 'unavailable')\n",
    "                    if availability == 'preferred':\n",
    "                        schedule[day][shift] = caregiver.name\n",
    "                        caregiver.hours += 6\n",
    "                        break\n",
    "                else:\n",
    "                    for caregiver in self.caregivers:\n",
    "                        availability = caregiver.get_availability().get(day, {}).get(shift, 'unavailable')\n",
    "                        if availability == 'available':\n",
    "                            schedule[day][shift] = caregiver.name\n",
    "                            caregiver.hours += 6\n",
    "                            break\n",
    "        return schedule\n",
    "\n",
    "    def generate_pay_report(self):\n",
    "        \"\"\"\n",
    "        Generates a weekly pay report for all caregivers.\n",
    "        \"\"\"\n",
    "        report = \"Weekly Pay Report\\n\"\n",
    "        report += \"-\" * 30 + \"\\n\"\n",
    "        total_pay = 0\n",
    "        for caregiver in self.caregivers:\n",
    "            weekly_pay = caregiver.calculate_weekly_pay()\n",
    "            report += f\"{caregiver.name}: ${weekly_pay:.2f}\\n\"\n",
    "            total_pay += weekly_pay\n",
    "        report += \"-\" * 30 + \"\\n\"\n",
    "        report += f\"Total Weekly Pay: ${total_pay:.2f}\\n\"\n",
    "        report += f\"Total Monthly Pay: ${total_pay * 4:.2f}\\n\"  # Approximate 4 weeks in a month\n",
    "        return report\n",
    "    \n",
    "\n",
    "    def generate_html_calendar(self, schedule):\n",
    "        \"\"\"\n",
    "        Generates an HTML calendar displaying the care schedule.\n",
    "        \"\"\"\n",
    "        cal = calendar.HTMLCalendar()\n",
    "        year = datetime.now().year\n",
    "        month = datetime.now().month\n",
    "        html_calendar = cal.formatmonth(year, month)\n",
    "\n",
    "        # Adding schedule details to the calendar (simplified example)\n",
    "        html_schedule = \"<h3>Care Schedule</h3><table border='1'><tr><th>Day</th><th>AM Shift</th><th>PM Shift</th></tr>\"\n",
    "        for day, shifts in schedule.items():\n",
    "            html_schedule += f\"<tr><td>{day}</td><td>{shifts['AM']}</td><td>{shifts['PM']}</td></tr>\"\n",
    "        html_schedule += \"</table>\"\n",
    "\n",
    "        return html_calendar + html_schedule\n",
    "\n",
    "\n",
    "# Example usage\n",
    "manager = CareScheduleManager()\n",
    "\n",
    "# Creation of both caregivers\n",
    "caregiver1 = Caregiver(\"Jane\", \"852-401-2685\", \"JaneWatson@yahoo.com\")\n",
    "caregiver1.set_availability(\"Monday\", \"AM\", \"preferred\")\n",
    "caregiver1.set_availability(\"Thursday\", \"PM\", \"available\")\n",
    "\n",
    "caregiver2 = Caregiver(\"Jackson\", \"301-244-6140\", \"Jackson589@gmail.com\")\n",
    "caregiver2.set_availability(\"Friday\", \"AM\", \"available\")\n",
    "caregiver2.set_availability(\"Tuesday\", \"PM\", \"preferred\")\n",
    "\n",
    "manager.add_caregiver(caregiver1)\n",
    "manager.add_caregiver(caregiver2)\n",
    "\n",
    "# Generate the schedule\n",
    "schedule = manager.generate_schedule()\n",
    "print(schedule)\n",
    "\n",
    "# pay report henerator\n",
    "manager.generate_pay_report()\n",
    "print(pay_report)\n",
    "# Generate HTML calendar\n",
    "html_calendar = manager.generate_html_calendar(schedule)\n",
    "print(html_calendar)\n",
    "        # Save the HTML calendar to a file\n",
    "with open(\"availability_schedule.html\", \"w\") as file:\n",
    "    file.write(html_calendar)\n",
    "\n",
    "print(\"Availability schedule has been saved to 'availability_schedule.html'.\")"
   ]
  },
  {
   "cell_type": "markdown",
   "id": "ec8ddd19-87cd-475d-a07f-7dc8983dc636",
   "metadata": {},
   "source": [
    "### Notebook Instructions\n",
    "> Before turning in your notebook:\n",
    "> 1. Make sure you have renamed the notebook file as instructed\n",
    "> 2. Make sure you have included your signature block and that it is correct according to the instructions\n",
    "> 3. comment your code as necessary\n",
    "> 4. run all code cells and double check that they run correctly. If you can't get your code to run correctly and you want partial credit, add a note for the grader in a new markdown cell directly above your code solution.<br><br>\n",
    "Turn in your notebook by uploading it to ELMS<br>\n",
    "IF the exercises involve saved data files, put your notebook and the data file(s) in a zip folder and upload the zip folder to ELMS"
   ]
  },
  {
   "cell_type": "code",
   "execution_count": null,
   "id": "c2f96be2-9bc0-46ea-98fb-51d8c07c7de8",
   "metadata": {},
   "outputs": [],
   "source": []
  }
 ],
 "metadata": {
  "kernelspec": {
   "display_name": "Python 3 (ipykernel)",
   "language": "python",
   "name": "python3"
  },
  "language_info": {
   "codemirror_mode": {
    "name": "ipython",
    "version": 3
   },
   "file_extension": ".py",
   "mimetype": "text/x-python",
   "name": "python",
   "nbconvert_exporter": "python",
   "pygments_lexer": "ipython3",
   "version": "3.11.5"
  }
 },
 "nbformat": 4,
 "nbformat_minor": 5
}
